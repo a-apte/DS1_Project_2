{
  "nbformat": 4,
  "nbformat_minor": 0,
  "metadata": {
    "colab": {
      "name": "Project 2 - Kaggle Dataset - Tanzania Water",
      "version": "0.3.2",
      "provenance": [],
      "collapsed_sections": [
        "pKDzcX1FH3ha",
        "qYhCpORjH7dC",
        "_oZXDAGcHtxF",
        "p9A1WElgh3ZY"
      ],
      "include_colab_link": true
    },
    "kernelspec": {
      "name": "python3",
      "display_name": "Python 3"
    }
  },
  "cells": [
    {
      "cell_type": "markdown",
      "metadata": {
        "id": "view-in-github",
        "colab_type": "text"
      },
      "source": [
        "<a href=\"https://colab.research.google.com/github/a-apte/DS1_Project_2/blob/master/Project_2_Kaggle_Dataset_Tanzania_Water.ipynb\" target=\"_parent\"><img src=\"https://colab.research.google.com/assets/colab-badge.svg\" alt=\"Open In Colab\"/></a>"
      ]
    },
    {
      "metadata": {
        "id": "RBFv4iBQUIZk",
        "colab_type": "text"
      },
      "cell_type": "markdown",
      "source": [
        "### Data Overview"
      ]
    },
    {
      "metadata": {
        "id": "lHvveY-sUO42",
        "colab_type": "text"
      },
      "cell_type": "markdown",
      "source": [
        "**Features**\n",
        "\n",
        "        Your goal is to predict the operating condition of a waterpoint for each record in the dataset. You are provided the following set of information about the waterpoints:\n",
        "\n",
        "      amount_tsh : Total static head (amount water available to waterpoint) - numeric\n",
        "      date_recorded : The date the row was entered - datetime\n",
        "      funder : Who funded the well\n",
        "      gps_height : Altitude of the well\n",
        "      installer : Organization that installed the well\n",
        "      longitude : GPS coordinate\n",
        "      latitude : GPS coordinate\n",
        "      wpt_name : Name of the waterpoint if there is one\n",
        "      num_private :\n",
        "      basin : Geographic water basin\n",
        "      subvillage : Geographic location\n",
        "      region : Geographic location\n",
        "      region_code : Geographic location (coded)\n",
        "      district_code : Geographic location (coded)\n",
        "      lga : Geographic location\n",
        "      ward : Geographic location\n",
        "      population : Population around the well\n",
        "      public_meeting : True/False\n",
        "      recorded_by : Group entering this row of data\n",
        "      scheme_management : Who operates the waterpoint\n",
        "      scheme_name : Who operates the waterpoint\n",
        "      permit : If the waterpoint is permitted\n",
        "      construction_year : Year the waterpoint was constructed\n",
        "      extraction_type : The kind of extraction the waterpoint uses\n",
        "      extraction_type_group : The kind of extraction the waterpoint uses\n",
        "      extraction_type_class : The kind of extraction the waterpoint uses\n",
        "      management : How the waterpoint is managed\n",
        "      management_group : How the waterpoint is managed\n",
        "      payment : What the water costs\n",
        "      payment_type : What the water costs\n",
        "      water_quality : The quality of the water\n",
        "      quality_group : The quality of the water\n",
        "      quantity : The quantity of water\n",
        "      quantity_group : The quantity of water\n",
        "      source : The source of the water\n",
        "      source_type : The source of the water\n",
        "      source_class : The source of the water\n",
        "      waterpoint_type : The kind of waterpoint\n",
        "      waterpoint_type_group : The kind of waterpoint\n",
        "\n",
        "\n",
        "**Labels**\n",
        "\n",
        "There are three possible values:\n",
        "\n",
        "      functional : the waterpoint is operational and there are no repairs needed\n",
        "      functional needs repair : the waterpoint is operational, but needs repairs\n",
        "      non functional : the waterpoint is not operational"
      ]
    },
    {
      "metadata": {
        "id": "pKDzcX1FH3ha",
        "colab_type": "text"
      },
      "cell_type": "markdown",
      "source": [
        "### File Loading"
      ]
    },
    {
      "metadata": {
        "id": "MnHLWPYDcyIe",
        "colab_type": "code",
        "outputId": "d34e4a57-241c-4bed-b9f1-9a038ac37e92",
        "colab": {
          "base_uri": "https://localhost:8080/"
        }
      },
      "cell_type": "code",
      "source": [
        "!pip install kaggle"
      ],
      "execution_count": 0,
      "outputs": [
        {
          "output_type": "stream",
          "text": [
            "Requirement already satisfied: kaggle in /usr/local/lib/python3.6/dist-packages (1.5.2)\n",
            "Requirement already satisfied: urllib3<1.23.0,>=1.15 in /usr/local/lib/python3.6/dist-packages (from kaggle) (1.22)\n",
            "Requirement already satisfied: six>=1.10 in /usr/local/lib/python3.6/dist-packages (from kaggle) (1.11.0)\n",
            "Requirement already satisfied: certifi in /usr/local/lib/python3.6/dist-packages (from kaggle) (2018.11.29)\n",
            "Requirement already satisfied: python-dateutil in /usr/local/lib/python3.6/dist-packages (from kaggle) (2.5.3)\n",
            "Requirement already satisfied: requests in /usr/local/lib/python3.6/dist-packages (from kaggle) (2.18.4)\n",
            "Requirement already satisfied: tqdm in /usr/local/lib/python3.6/dist-packages (from kaggle) (4.28.1)\n",
            "Requirement already satisfied: python-slugify in /usr/local/lib/python3.6/dist-packages (from kaggle) (2.0.1)\n",
            "Requirement already satisfied: chardet<3.1.0,>=3.0.2 in /usr/local/lib/python3.6/dist-packages (from requests->kaggle) (3.0.4)\n",
            "Requirement already satisfied: idna<2.7,>=2.5 in /usr/local/lib/python3.6/dist-packages (from requests->kaggle) (2.6)\n",
            "Requirement already satisfied: Unidecode>=0.04.16 in /usr/local/lib/python3.6/dist-packages (from python-slugify->kaggle) (1.0.23)\n"
          ],
          "name": "stdout"
        }
      ]
    },
    {
      "metadata": {
        "id": "wPgce-jQc5zi",
        "colab_type": "code",
        "colab": {}
      },
      "cell_type": "code",
      "source": [
        "# Note - you'll also have to sign up for Kaggle and authorize the API\n",
        "# https://github.com/Kaggle/kaggle-api#api-credentials\n",
        "\n",
        "# Key = \"6aa390ba6abbed908ad0d11e6462b361\"\n",
        "\n",
        "# This essentially means uploading a kaggle.json file\n",
        "# For Colab we can have it in Google Drive\n",
        "from google.colab import drive\n",
        "drive.mount('/content/drive', force_remount=True)\n",
        "%env KAGGLE_CONFIG_DIR=/content/drive/My Drive/\n",
        "\n",
        "# %env KAGGLE_CONFIG_DIR=/content/drive/My Drive/\n",
        "\n",
        "\n",
        "'4/5wAtCWG0qZ5_sP2GCg7X_XQl8WtHc5NBRKEo9CS-2J3LpRGdIxNY_4U'"
      ],
      "execution_count": 0,
      "outputs": []
    },
    {
      "metadata": {
        "id": "K0F6NGTHUmkK",
        "colab_type": "code",
        "colab": {}
      },
      "cell_type": "code",
      "source": [
        "!kaggle competitions list"
      ],
      "execution_count": 0,
      "outputs": []
    },
    {
      "metadata": {
        "id": "F8ig3E9XUoNF",
        "colab_type": "code",
        "colab": {}
      },
      "cell_type": "code",
      "source": [
        "\n",
        "!kaggle competitions download -c ds1-predictive-modeling-challenge"
      ],
      "execution_count": 0,
      "outputs": []
    },
    {
      "metadata": {
        "id": "glw6F__r9kJJ",
        "colab_type": "code",
        "colab": {}
      },
      "cell_type": "code",
      "source": [
        "# !wget https://os.unil.cloud.switch.ch/fma/fma_metadata.zip\n",
        "!unzip test_features.csv.zip\n",
        "!unzip train_labels.csv.zip\n",
        "!unzip train_features.csv.zip\n"
      ],
      "execution_count": 0,
      "outputs": []
    },
    {
      "metadata": {
        "id": "qYhCpORjH7dC",
        "colab_type": "text"
      },
      "cell_type": "markdown",
      "source": [
        "### First Data Investigation"
      ]
    },
    {
      "metadata": {
        "id": "_-HcneQJ9r8s",
        "colab_type": "code",
        "colab": {}
      },
      "cell_type": "code",
      "source": [
        "import pandas as pd\n",
        "\n",
        "test_features = pd.read_csv('test_features.csv')\n",
        "\n",
        "test_features.head()"
      ],
      "execution_count": 0,
      "outputs": []
    },
    {
      "metadata": {
        "id": "iXlgd2Io-eLF",
        "colab_type": "code",
        "colab": {}
      },
      "cell_type": "code",
      "source": [
        "train_features = pd.read_csv('train_features.csv')\n",
        "\n",
        "train_features.head()"
      ],
      "execution_count": 0,
      "outputs": []
    },
    {
      "metadata": {
        "id": "SW4aJ4FS-fA8",
        "colab_type": "code",
        "colab": {}
      },
      "cell_type": "code",
      "source": [
        "train_labels = pd.read_csv('train_labels.csv')\n",
        "\n",
        "train_labels.head()"
      ],
      "execution_count": 0,
      "outputs": []
    },
    {
      "metadata": {
        "id": "a2HEK9Yh-4LH",
        "colab_type": "code",
        "colab": {}
      },
      "cell_type": "code",
      "source": [
        "train_features.dtypes"
      ],
      "execution_count": 0,
      "outputs": []
    },
    {
      "metadata": {
        "id": "gSSBSnvR-6Cc",
        "colab_type": "code",
        "colab": {}
      },
      "cell_type": "code",
      "source": [
        "test_features.dtypes"
      ],
      "execution_count": 0,
      "outputs": []
    },
    {
      "metadata": {
        "id": "Y4MhKvHm_Hae",
        "colab_type": "code",
        "colab": {}
      },
      "cell_type": "code",
      "source": [
        "train_labels.dtypes"
      ],
      "execution_count": 0,
      "outputs": []
    },
    {
      "metadata": {
        "id": "394GmKnO_IzS",
        "colab_type": "code",
        "colab": {}
      },
      "cell_type": "code",
      "source": [
        "train_labels.shape, train_features.shape, test_features.shape"
      ],
      "execution_count": 0,
      "outputs": []
    },
    {
      "metadata": {
        "id": "UWIdOTly_Vlq",
        "colab_type": "code",
        "colab": {}
      },
      "cell_type": "code",
      "source": [
        "train_labels.isnull().sum()"
      ],
      "execution_count": 0,
      "outputs": []
    },
    {
      "metadata": {
        "id": "13W0VQC6AQ3D",
        "colab_type": "code",
        "colab": {}
      },
      "cell_type": "code",
      "source": [
        "train_features.isnull().sum()"
      ],
      "execution_count": 0,
      "outputs": []
    },
    {
      "metadata": {
        "id": "P83DMYR7AU7c",
        "colab_type": "code",
        "colab": {}
      },
      "cell_type": "code",
      "source": [
        "train_features.dropna().shape"
      ],
      "execution_count": 0,
      "outputs": []
    },
    {
      "metadata": {
        "id": "9on1zdQMAmvF",
        "colab_type": "code",
        "colab": {}
      },
      "cell_type": "code",
      "source": [
        "test_features.isnull().sum()"
      ],
      "execution_count": 0,
      "outputs": []
    },
    {
      "metadata": {
        "id": "lXeT0K0gA5dd",
        "colab_type": "code",
        "colab": {}
      },
      "cell_type": "code",
      "source": [
        "test_features.dropna().shape"
      ],
      "execution_count": 0,
      "outputs": []
    },
    {
      "metadata": {
        "id": "iI86p_kLBJJD",
        "colab_type": "code",
        "colab": {}
      },
      "cell_type": "code",
      "source": [
        "test_features.columns"
      ],
      "execution_count": 0,
      "outputs": []
    },
    {
      "metadata": {
        "id": "r4dGDpSYAs67",
        "colab_type": "code",
        "colab": {}
      },
      "cell_type": "code",
      "source": [
        "null_columns = ['funder', 'installer', 'subvillage', 'public_meeting', 'scheme_management', 'scheme_name', 'permit']\n",
        "\n",
        "train_clean = train_features.drop(null_columns, axis='columns')\n",
        "\n",
        "test_clean = test_features.drop(null_columns, axis='columns')\n",
        "\n",
        "train_clean.shape, test_clean.shape"
      ],
      "execution_count": 0,
      "outputs": []
    },
    {
      "metadata": {
        "id": "g2pCpPfYByd9",
        "colab_type": "code",
        "colab": {}
      },
      "cell_type": "code",
      "source": [
        "train_clean.isnull().sum().sum(), test_clean.isnull().sum().sum()"
      ],
      "execution_count": 0,
      "outputs": []
    },
    {
      "metadata": {
        "id": "FAABhxQ4Dtfv",
        "colab_type": "code",
        "colab": {}
      },
      "cell_type": "code",
      "source": [
        "sample_sub = pd.read_csv('sample_submission.csv')\n",
        "\n",
        "print (sample_sub.shape)\n",
        "\n",
        "sample_sub.head()"
      ],
      "execution_count": 0,
      "outputs": []
    },
    {
      "metadata": {
        "id": "_oZXDAGcHtxF",
        "colab_type": "text"
      },
      "cell_type": "markdown",
      "source": [
        "### Exporting Files to Local Machine (will later be uploaded to Github)"
      ]
    },
    {
      "metadata": {
        "id": "SXFAyZUnGaaq",
        "colab_type": "code",
        "colab": {}
      },
      "cell_type": "code",
      "source": [
        "# from google.colab import files\n",
        "\n",
        "# sample_sub.to_csv('sample_submission.csv')\n",
        "# files.download('sample_submission.csv')"
      ],
      "execution_count": 0,
      "outputs": []
    },
    {
      "metadata": {
        "id": "jP4xj_0Sheh2",
        "colab_type": "code",
        "colab": {}
      },
      "cell_type": "code",
      "source": [
        "# train_labels.to_csv('train_labels.csv')\n",
        "# files.download('train_labels.csv')"
      ],
      "execution_count": 0,
      "outputs": []
    },
    {
      "metadata": {
        "id": "8_oDSDfhEK_q",
        "colab_type": "code",
        "colab": {}
      },
      "cell_type": "code",
      "source": [
        "# train_features.to_csv('train_features.csv')\n",
        "# files.download('train_features.csv')"
      ],
      "execution_count": 0,
      "outputs": []
    },
    {
      "metadata": {
        "id": "OFPAi1DnEK1O",
        "colab_type": "code",
        "colab": {}
      },
      "cell_type": "code",
      "source": [
        "# test_features.to_csv('test_features.csv')\n",
        "# files.download('test_features.csv')"
      ],
      "execution_count": 0,
      "outputs": []
    },
    {
      "metadata": {
        "id": "1yp-HViLEVBR",
        "colab_type": "code",
        "colab": {}
      },
      "cell_type": "code",
      "source": [
        "# train_clean.to_csv('train_clean.csv')\n",
        "# files.download('train_clean.csv')"
      ],
      "execution_count": 0,
      "outputs": []
    },
    {
      "metadata": {
        "id": "BFF_ay3FEU2S",
        "colab_type": "code",
        "colab": {}
      },
      "cell_type": "code",
      "source": [
        "# test_clean.to_csv('test_clean.csv')\n",
        "# files.download('test_clean.csv')"
      ],
      "execution_count": 0,
      "outputs": []
    },
    {
      "metadata": {
        "id": "plsyfVwOQxWS",
        "colab_type": "text"
      },
      "cell_type": "markdown",
      "source": [
        "### Importing same files from Github (START HERE)"
      ]
    },
    {
      "metadata": {
        "id": "KbSOaT4ZQ13d",
        "colab_type": "code",
        "colab": {}
      },
      "cell_type": "code",
      "source": [
        "import pandas as pd\n",
        "import numpy as np\n",
        "import matplotlib.pyplot as plt\n",
        "import matplotlib.style as style\n",
        "style.use('seaborn-whitegrid')\n",
        "import seaborn as sns\n",
        "\n",
        "pd.set_option('display.height', 1000)\n",
        "pd.set_option('display.max_rows', 500)\n",
        "pd.set_option('display.max_columns', 500)\n",
        "pd.set_option('display.width', 1000)"
      ],
      "execution_count": 0,
      "outputs": []
    },
    {
      "metadata": {
        "id": "gwUOlpSvRByT",
        "colab_type": "code",
        "colab": {}
      },
      "cell_type": "code",
      "source": [
        "train_feature_url = 'https://raw.githubusercontent.com/a-apte/DS1_Project_2/master/Input_DataSets/train_features.csv'\n",
        "test_feature_url = 'https://raw.githubusercontent.com/a-apte/DS1_Project_2/master/Input_DataSets/test_features.csv'\n",
        "train_labels_url = 'https://raw.githubusercontent.com/a-apte/DS1_Project_2/master/Input_DataSets/train_labels.csv'\n",
        "\n",
        "# train_feature_clean_url = 'https://raw.githubusercontent.com/a-apte/DS1_Project_2/master/Input_DataSets/train_clean.csv'\n",
        "# test_feature_clean_url = 'https://raw.githubusercontent.com/a-apte/DS1_Project_2/master/Input_DataSets/test_clean.csv'"
      ],
      "execution_count": 0,
      "outputs": []
    },
    {
      "metadata": {
        "id": "TErm254nRHOF",
        "colab_type": "code",
        "outputId": "14b55fbf-40de-467f-c33a-f55adc25410d",
        "colab": {
          "base_uri": "https://localhost:8080/",
          "height": 34
        }
      },
      "cell_type": "code",
      "source": [
        "drop_col = ['Unnamed: 0']\n",
        "\n",
        "# drop_col_label = ['Unnamed: 0']\n",
        "\n",
        "train_F = pd.read_csv(train_feature_url, index_col='id').drop(drop_col,axis='columns')\n",
        "test_F = pd.read_csv(test_feature_url, index_col='id').drop(drop_col,axis='columns')\n",
        "train_L = pd.read_csv(train_labels_url, index_col='id').drop(drop_col,axis='columns')\n",
        "\n",
        "# train_F_C = pd.read_csv(train_feature_clean_url, index_col='id').drop(drop_col,axis='columns')\n",
        "# test_F_C = pd.read_csv(test_feature_clean_url, index_col='id').drop(drop_col,axis='columns')\n",
        "\n",
        "train_F.shape, test_F.shape, train_L.shape  #,  train_F_C.shape, test_F_C.shape, # "
      ],
      "execution_count": 0,
      "outputs": [
        {
          "output_type": "execute_result",
          "data": {
            "text/plain": [
              "((59400, 39), (14358, 39), (59400, 1))"
            ]
          },
          "metadata": {
            "tags": []
          },
          "execution_count": 4
        }
      ]
    },
    {
      "metadata": {
        "id": "X8gbCpjN4o8t",
        "colab_type": "text"
      },
      "cell_type": "markdown",
      "source": [
        "### Feature Cleanup and Engineering"
      ]
    },
    {
      "metadata": {
        "id": "HBaZSYTa0-mD",
        "colab_type": "text"
      },
      "cell_type": "markdown",
      "source": [
        "**Finding Columns with Null Values for later**"
      ]
    },
    {
      "metadata": {
        "id": "4yVX2C5MC8aM",
        "colab_type": "code",
        "outputId": "9dd2de64-6821-4b94-a77b-b009ce59f1d0",
        "colab": {
          "base_uri": "https://localhost:8080/",
          "height": 173
        }
      },
      "cell_type": "code",
      "source": [
        "# null_list = [train_F.isnull().sum() > 0]\n",
        "\n",
        "null_list = []\n",
        "\n",
        "for col in train_F.columns:\n",
        "  if train_F[col].isnull().sum() > 0:\n",
        "    null_list.append(col)\n",
        "    \n",
        "null_list.append('recorded_by')\n",
        "null_list.append('date_recorded')\n",
        "    \n",
        "null_list"
      ],
      "execution_count": 0,
      "outputs": [
        {
          "output_type": "execute_result",
          "data": {
            "text/plain": [
              "['funder',\n",
              " 'installer',\n",
              " 'subvillage',\n",
              " 'public_meeting',\n",
              " 'scheme_management',\n",
              " 'scheme_name',\n",
              " 'permit',\n",
              " 'recorded_by',\n",
              " 'date_recorded']"
            ]
          },
          "metadata": {
            "tags": []
          },
          "execution_count": 5
        }
      ]
    },
    {
      "metadata": {
        "id": "nyApNDk71E6V",
        "colab_type": "text"
      },
      "cell_type": "markdown",
      "source": [
        "**Converting the date variable into a datetime object and splitting it into pieces**"
      ]
    },
    {
      "metadata": {
        "id": "0KY0GGXQ0VRr",
        "colab_type": "code",
        "colab": {}
      },
      "cell_type": "code",
      "source": [
        "def convert_datetime(df, col):\n",
        "  df[col] = pd.to_datetime(df[col])\n",
        "  df['day_of_week'] = df[col].dt.weekday_name \n",
        "  df['year'] = df[col].dt.year\n",
        "  df['month'] = df[col].dt.month \n",
        "  df['day'] = df[col].dt.day \n",
        "  \n",
        "  return None\n",
        "\n",
        "# train_F.date_recorded = pd.to_datetime(train_F.date_recorded)\n",
        "\n",
        "# train_F['day_of_week'] = train_F.date_recorded.dt.weekday_name \n",
        "# train_F['year'] = train_F.date_recorded.dt.year\n",
        "# train_F['month'] = train_F.date_recorded.dt.month \n",
        "# train_F['day'] = train_F.date_recorded.dt.day \n",
        "\n",
        "# train_F.dtypes"
      ],
      "execution_count": 0,
      "outputs": []
    },
    {
      "metadata": {
        "id": "tDSTHcHN1LGu",
        "colab_type": "code",
        "outputId": "c89e194b-c5fe-47ed-cb72-e2eee64fd731",
        "colab": {
          "base_uri": "https://localhost:8080/",
          "height": 780
        }
      },
      "cell_type": "code",
      "source": [
        "convert_datetime(train_F, 'date_recorded')\n",
        "convert_datetime(test_F, 'date_recorded')\n",
        "\n",
        "train_F.dtypes"
      ],
      "execution_count": 0,
      "outputs": [
        {
          "output_type": "execute_result",
          "data": {
            "text/plain": [
              "amount_tsh                      float64\n",
              "date_recorded            datetime64[ns]\n",
              "funder                           object\n",
              "gps_height                        int64\n",
              "installer                        object\n",
              "longitude                       float64\n",
              "latitude                        float64\n",
              "wpt_name                         object\n",
              "num_private                       int64\n",
              "basin                            object\n",
              "subvillage                       object\n",
              "region                           object\n",
              "region_code                       int64\n",
              "district_code                     int64\n",
              "lga                              object\n",
              "ward                             object\n",
              "population                        int64\n",
              "public_meeting                   object\n",
              "recorded_by                      object\n",
              "scheme_management                object\n",
              "scheme_name                      object\n",
              "permit                           object\n",
              "construction_year                 int64\n",
              "extraction_type                  object\n",
              "extraction_type_group            object\n",
              "extraction_type_class            object\n",
              "management                       object\n",
              "management_group                 object\n",
              "payment                          object\n",
              "payment_type                     object\n",
              "water_quality                    object\n",
              "quality_group                    object\n",
              "quantity                         object\n",
              "quantity_group                   object\n",
              "source                           object\n",
              "source_type                      object\n",
              "source_class                     object\n",
              "waterpoint_type                  object\n",
              "waterpoint_type_group            object\n",
              "day_of_week                      object\n",
              "year                              int64\n",
              "month                             int64\n",
              "day                               int64\n",
              "dtype: object"
            ]
          },
          "metadata": {
            "tags": []
          },
          "execution_count": 7
        }
      ]
    },
    {
      "metadata": {
        "id": "1oY7-ErX3dZO",
        "colab_type": "text"
      },
      "cell_type": "markdown",
      "source": [
        "**Converting numeric columns to category type**"
      ]
    },
    {
      "metadata": {
        "id": "d0DKiE_024Qy",
        "colab_type": "code",
        "outputId": "c34f7982-6d54-4b12-e383-a679ca42c12e",
        "colab": {
          "base_uri": "https://localhost:8080/",
          "height": 780
        }
      },
      "cell_type": "code",
      "source": [
        "train_F['region_code'] = train_F['region_code'].astype('category')\n",
        "test_F['region_code'] = test_F['region_code'].astype('category')\n",
        "train_F['district_code'] = train_F['district_code'].astype('category')\n",
        "test_F['district_code'] = test_F['district_code'].astype('category')\n",
        "train_F['wpt_name'] = train_F['wpt_name'].astype('category')\n",
        "test_F['wpt_name'] = test_F['wpt_name'].astype('category')\n",
        "train_F['ward'] = train_F['ward'].astype('category')\n",
        "test_F['ward'] = test_F['ward'].astype('category')\n",
        "\n",
        "\n",
        "train_F.dtypes"
      ],
      "execution_count": 0,
      "outputs": [
        {
          "output_type": "execute_result",
          "data": {
            "text/plain": [
              "amount_tsh                      float64\n",
              "date_recorded            datetime64[ns]\n",
              "funder                           object\n",
              "gps_height                        int64\n",
              "installer                        object\n",
              "longitude                       float64\n",
              "latitude                        float64\n",
              "wpt_name                       category\n",
              "num_private                       int64\n",
              "basin                            object\n",
              "subvillage                       object\n",
              "region                           object\n",
              "region_code                    category\n",
              "district_code                  category\n",
              "lga                              object\n",
              "ward                           category\n",
              "population                        int64\n",
              "public_meeting                   object\n",
              "recorded_by                      object\n",
              "scheme_management                object\n",
              "scheme_name                      object\n",
              "permit                           object\n",
              "construction_year                 int64\n",
              "extraction_type                  object\n",
              "extraction_type_group            object\n",
              "extraction_type_class            object\n",
              "management                       object\n",
              "management_group                 object\n",
              "payment                          object\n",
              "payment_type                     object\n",
              "water_quality                    object\n",
              "quality_group                    object\n",
              "quantity                         object\n",
              "quantity_group                   object\n",
              "source                           object\n",
              "source_type                      object\n",
              "source_class                     object\n",
              "waterpoint_type                  object\n",
              "waterpoint_type_group            object\n",
              "day_of_week                      object\n",
              "year                              int64\n",
              "month                             int64\n",
              "day                               int64\n",
              "dtype: object"
            ]
          },
          "metadata": {
            "tags": []
          },
          "execution_count": 26
        }
      ]
    },
    {
      "metadata": {
        "id": "S19Hmvck1SQE",
        "colab_type": "text"
      },
      "cell_type": "markdown",
      "source": [
        "**Finding the number of unique values per column**"
      ]
    },
    {
      "metadata": {
        "id": "iPXm5rlcT7IR",
        "colab_type": "code",
        "outputId": "65e84e3c-298f-46c9-a4a3-3037823bde18",
        "colab": {
          "base_uri": "https://localhost:8080/",
          "height": 762
        }
      },
      "cell_type": "code",
      "source": [
        "for col in train_F.columns:  \n",
        "  print(col, train_F[col].nunique())"
      ],
      "execution_count": 0,
      "outputs": [
        {
          "output_type": "stream",
          "text": [
            "amount_tsh 98\n",
            "date_recorded 356\n",
            "funder 1897\n",
            "gps_height 2428\n",
            "installer 2145\n",
            "longitude 57516\n",
            "latitude 57517\n",
            "wpt_name 37400\n",
            "num_private 65\n",
            "basin 9\n",
            "subvillage 19287\n",
            "region 21\n",
            "region_code 27\n",
            "district_code 20\n",
            "lga 125\n",
            "ward 2092\n",
            "population 1049\n",
            "public_meeting 2\n",
            "recorded_by 1\n",
            "scheme_management 12\n",
            "scheme_name 2696\n",
            "permit 2\n",
            "construction_year 55\n",
            "extraction_type 18\n",
            "extraction_type_group 13\n",
            "extraction_type_class 7\n",
            "management 12\n",
            "management_group 5\n",
            "payment 7\n",
            "payment_type 7\n",
            "water_quality 8\n",
            "quality_group 6\n",
            "quantity 5\n",
            "quantity_group 5\n",
            "source 10\n",
            "source_type 7\n",
            "source_class 3\n",
            "waterpoint_type 7\n",
            "waterpoint_type_group 6\n",
            "day_of_week 7\n",
            "year 5\n",
            "month 12\n",
            "day 31\n"
          ],
          "name": "stdout"
        }
      ]
    },
    {
      "metadata": {
        "id": "sF2AlSbrAsKN",
        "colab_type": "text"
      },
      "cell_type": "markdown",
      "source": [
        "#### Splitting into Numeric and Nonnumeric variables"
      ]
    },
    {
      "metadata": {
        "id": "V-ClyRb8PpcB",
        "colab_type": "code",
        "colab": {}
      },
      "cell_type": "code",
      "source": [
        "def df_split(df):\n",
        "  numerics = ['int16', 'int32', 'int64', 'float16', 'float32', 'float64']\n",
        "  df_num = df.select_dtypes(include=numerics)\n",
        "  df_cat = df.drop(df_num, axis = 'columns')\n",
        "  print (df.shape, df_num.shape, df_cat.shape)\n",
        "  return df_num, df_cat\n",
        "  "
      ],
      "execution_count": 0,
      "outputs": []
    },
    {
      "metadata": {
        "id": "aE1x9yBBNRj5",
        "colab_type": "code",
        "outputId": "df96445a-f149-4b7e-863c-f8acf1b78713",
        "colab": {
          "base_uri": "https://localhost:8080/",
          "height": 52
        }
      },
      "cell_type": "code",
      "source": [
        "train_F_num, train_F_cat = df_split(train_F)\n",
        "\n",
        "test_F_num, test_F_cat = df_split(test_F)"
      ],
      "execution_count": 0,
      "outputs": [
        {
          "output_type": "stream",
          "text": [
            "(59400, 43) (59400, 10) (59400, 33)\n",
            "(14358, 43) (14358, 10) (14358, 33)\n"
          ],
          "name": "stdout"
        }
      ]
    },
    {
      "metadata": {
        "id": "VXjEMyMD4Dbv",
        "colab_type": "text"
      },
      "cell_type": "markdown",
      "source": [
        "####Fixing numeric sets"
      ]
    },
    {
      "metadata": {
        "id": "zFpwb2HK1ZFz",
        "colab_type": "code",
        "outputId": "a74dcd19-ba5a-4b2a-d4d8-5d1c3de02049",
        "colab": {
          "base_uri": "https://localhost:8080/",
          "height": 356
        }
      },
      "cell_type": "code",
      "source": [
        "train_F_num.describe().T"
      ],
      "execution_count": 0,
      "outputs": [
        {
          "output_type": "execute_result",
          "data": {
            "text/html": [
              "<div>\n",
              "<style scoped>\n",
              "    .dataframe tbody tr th:only-of-type {\n",
              "        vertical-align: middle;\n",
              "    }\n",
              "\n",
              "    .dataframe tbody tr th {\n",
              "        vertical-align: top;\n",
              "    }\n",
              "\n",
              "    .dataframe thead th {\n",
              "        text-align: right;\n",
              "    }\n",
              "</style>\n",
              "<table border=\"1\" class=\"dataframe\">\n",
              "  <thead>\n",
              "    <tr style=\"text-align: right;\">\n",
              "      <th></th>\n",
              "      <th>count</th>\n",
              "      <th>mean</th>\n",
              "      <th>std</th>\n",
              "      <th>min</th>\n",
              "      <th>25%</th>\n",
              "      <th>50%</th>\n",
              "      <th>75%</th>\n",
              "      <th>max</th>\n",
              "    </tr>\n",
              "  </thead>\n",
              "  <tbody>\n",
              "    <tr>\n",
              "      <th>amount_tsh</th>\n",
              "      <td>59400.0</td>\n",
              "      <td>317.650385</td>\n",
              "      <td>2997.574558</td>\n",
              "      <td>0.00000</td>\n",
              "      <td>0.000000</td>\n",
              "      <td>0.000000</td>\n",
              "      <td>20.000000</td>\n",
              "      <td>3.500000e+05</td>\n",
              "    </tr>\n",
              "    <tr>\n",
              "      <th>gps_height</th>\n",
              "      <td>59400.0</td>\n",
              "      <td>668.297239</td>\n",
              "      <td>693.116350</td>\n",
              "      <td>-90.00000</td>\n",
              "      <td>0.000000</td>\n",
              "      <td>369.000000</td>\n",
              "      <td>1319.250000</td>\n",
              "      <td>2.770000e+03</td>\n",
              "    </tr>\n",
              "    <tr>\n",
              "      <th>longitude</th>\n",
              "      <td>59400.0</td>\n",
              "      <td>34.077427</td>\n",
              "      <td>6.567432</td>\n",
              "      <td>0.00000</td>\n",
              "      <td>33.090347</td>\n",
              "      <td>34.908743</td>\n",
              "      <td>37.178387</td>\n",
              "      <td>4.034519e+01</td>\n",
              "    </tr>\n",
              "    <tr>\n",
              "      <th>latitude</th>\n",
              "      <td>59400.0</td>\n",
              "      <td>-5.706033</td>\n",
              "      <td>2.946019</td>\n",
              "      <td>-11.64944</td>\n",
              "      <td>-8.540621</td>\n",
              "      <td>-5.021597</td>\n",
              "      <td>-3.326156</td>\n",
              "      <td>-2.000000e-08</td>\n",
              "    </tr>\n",
              "    <tr>\n",
              "      <th>num_private</th>\n",
              "      <td>59400.0</td>\n",
              "      <td>0.474141</td>\n",
              "      <td>12.236230</td>\n",
              "      <td>0.00000</td>\n",
              "      <td>0.000000</td>\n",
              "      <td>0.000000</td>\n",
              "      <td>0.000000</td>\n",
              "      <td>1.776000e+03</td>\n",
              "    </tr>\n",
              "    <tr>\n",
              "      <th>population</th>\n",
              "      <td>59400.0</td>\n",
              "      <td>179.909983</td>\n",
              "      <td>471.482176</td>\n",
              "      <td>0.00000</td>\n",
              "      <td>0.000000</td>\n",
              "      <td>25.000000</td>\n",
              "      <td>215.000000</td>\n",
              "      <td>3.050000e+04</td>\n",
              "    </tr>\n",
              "    <tr>\n",
              "      <th>construction_year</th>\n",
              "      <td>59400.0</td>\n",
              "      <td>1300.652475</td>\n",
              "      <td>951.620547</td>\n",
              "      <td>0.00000</td>\n",
              "      <td>0.000000</td>\n",
              "      <td>1986.000000</td>\n",
              "      <td>2004.000000</td>\n",
              "      <td>2.013000e+03</td>\n",
              "    </tr>\n",
              "    <tr>\n",
              "      <th>year</th>\n",
              "      <td>59400.0</td>\n",
              "      <td>2011.921667</td>\n",
              "      <td>0.958758</td>\n",
              "      <td>2002.00000</td>\n",
              "      <td>2011.000000</td>\n",
              "      <td>2012.000000</td>\n",
              "      <td>2013.000000</td>\n",
              "      <td>2.013000e+03</td>\n",
              "    </tr>\n",
              "    <tr>\n",
              "      <th>month</th>\n",
              "      <td>59400.0</td>\n",
              "      <td>4.375640</td>\n",
              "      <td>3.029247</td>\n",
              "      <td>1.00000</td>\n",
              "      <td>2.000000</td>\n",
              "      <td>3.000000</td>\n",
              "      <td>7.000000</td>\n",
              "      <td>1.200000e+01</td>\n",
              "    </tr>\n",
              "    <tr>\n",
              "      <th>day</th>\n",
              "      <td>59400.0</td>\n",
              "      <td>15.621498</td>\n",
              "      <td>8.687553</td>\n",
              "      <td>1.00000</td>\n",
              "      <td>8.000000</td>\n",
              "      <td>16.000000</td>\n",
              "      <td>23.000000</td>\n",
              "      <td>3.100000e+01</td>\n",
              "    </tr>\n",
              "  </tbody>\n",
              "</table>\n",
              "</div>"
            ],
            "text/plain": [
              "                     count         mean          std         min          25%          50%          75%           max\n",
              "amount_tsh         59400.0   317.650385  2997.574558     0.00000     0.000000     0.000000    20.000000  3.500000e+05\n",
              "gps_height         59400.0   668.297239   693.116350   -90.00000     0.000000   369.000000  1319.250000  2.770000e+03\n",
              "longitude          59400.0    34.077427     6.567432     0.00000    33.090347    34.908743    37.178387  4.034519e+01\n",
              "latitude           59400.0    -5.706033     2.946019   -11.64944    -8.540621    -5.021597    -3.326156 -2.000000e-08\n",
              "num_private        59400.0     0.474141    12.236230     0.00000     0.000000     0.000000     0.000000  1.776000e+03\n",
              "population         59400.0   179.909983   471.482176     0.00000     0.000000    25.000000   215.000000  3.050000e+04\n",
              "construction_year  59400.0  1300.652475   951.620547     0.00000     0.000000  1986.000000  2004.000000  2.013000e+03\n",
              "year               59400.0  2011.921667     0.958758  2002.00000  2011.000000  2012.000000  2013.000000  2.013000e+03\n",
              "month              59400.0     4.375640     3.029247     1.00000     2.000000     3.000000     7.000000  1.200000e+01\n",
              "day                59400.0    15.621498     8.687553     1.00000     8.000000    16.000000    23.000000  3.100000e+01"
            ]
          },
          "metadata": {
            "tags": []
          },
          "execution_count": 30
        }
      ]
    },
    {
      "metadata": {
        "id": "zLYVLeBQ2Mkr",
        "colab_type": "code",
        "outputId": "3ee46418-f46a-44e0-9717-df110fa1ad72",
        "colab": {
          "base_uri": "https://localhost:8080/",
          "height": 616
        }
      },
      "cell_type": "code",
      "source": [
        "train_F_num['construction_year'].loc[train_F_num['construction_year'] == 0] = train_F_num['year']\n",
        "test_F_num['construction_year'].loc[test_F_num['construction_year'] == 0] = test_F_num['year']\n",
        "\n",
        "train_F_num.describe().T"
      ],
      "execution_count": 0,
      "outputs": [
        {
          "output_type": "stream",
          "text": [
            "/usr/local/lib/python3.6/dist-packages/pandas/core/indexing.py:194: SettingWithCopyWarning: \n",
            "A value is trying to be set on a copy of a slice from a DataFrame\n",
            "\n",
            "See the caveats in the documentation: http://pandas.pydata.org/pandas-docs/stable/indexing.html#indexing-view-versus-copy\n",
            "  self._setitem_with_indexer(indexer, value)\n",
            "/usr/local/lib/python3.6/dist-packages/ipykernel_launcher.py:1: SettingWithCopyWarning: \n",
            "A value is trying to be set on a copy of a slice from a DataFrame\n",
            "\n",
            "See the caveats in the documentation: http://pandas.pydata.org/pandas-docs/stable/indexing.html#indexing-view-versus-copy\n",
            "  \"\"\"Entry point for launching an IPython kernel.\n",
            "/usr/local/lib/python3.6/dist-packages/ipykernel_launcher.py:2: SettingWithCopyWarning: \n",
            "A value is trying to be set on a copy of a slice from a DataFrame\n",
            "\n",
            "See the caveats in the documentation: http://pandas.pydata.org/pandas-docs/stable/indexing.html#indexing-view-versus-copy\n",
            "  \n"
          ],
          "name": "stderr"
        },
        {
          "output_type": "execute_result",
          "data": {
            "text/html": [
              "<div>\n",
              "<style scoped>\n",
              "    .dataframe tbody tr th:only-of-type {\n",
              "        vertical-align: middle;\n",
              "    }\n",
              "\n",
              "    .dataframe tbody tr th {\n",
              "        vertical-align: top;\n",
              "    }\n",
              "\n",
              "    .dataframe thead th {\n",
              "        text-align: right;\n",
              "    }\n",
              "</style>\n",
              "<table border=\"1\" class=\"dataframe\">\n",
              "  <thead>\n",
              "    <tr style=\"text-align: right;\">\n",
              "      <th></th>\n",
              "      <th>count</th>\n",
              "      <th>mean</th>\n",
              "      <th>std</th>\n",
              "      <th>min</th>\n",
              "      <th>25%</th>\n",
              "      <th>50%</th>\n",
              "      <th>75%</th>\n",
              "      <th>max</th>\n",
              "    </tr>\n",
              "  </thead>\n",
              "  <tbody>\n",
              "    <tr>\n",
              "      <th>amount_tsh</th>\n",
              "      <td>59400.0</td>\n",
              "      <td>317.650385</td>\n",
              "      <td>2997.574558</td>\n",
              "      <td>0.00000</td>\n",
              "      <td>0.000000</td>\n",
              "      <td>0.000000</td>\n",
              "      <td>20.000000</td>\n",
              "      <td>3.500000e+05</td>\n",
              "    </tr>\n",
              "    <tr>\n",
              "      <th>gps_height</th>\n",
              "      <td>59400.0</td>\n",
              "      <td>668.297239</td>\n",
              "      <td>693.116350</td>\n",
              "      <td>-90.00000</td>\n",
              "      <td>0.000000</td>\n",
              "      <td>369.000000</td>\n",
              "      <td>1319.250000</td>\n",
              "      <td>2.770000e+03</td>\n",
              "    </tr>\n",
              "    <tr>\n",
              "      <th>longitude</th>\n",
              "      <td>59400.0</td>\n",
              "      <td>34.077427</td>\n",
              "      <td>6.567432</td>\n",
              "      <td>0.00000</td>\n",
              "      <td>33.090347</td>\n",
              "      <td>34.908743</td>\n",
              "      <td>37.178387</td>\n",
              "      <td>4.034519e+01</td>\n",
              "    </tr>\n",
              "    <tr>\n",
              "      <th>latitude</th>\n",
              "      <td>59400.0</td>\n",
              "      <td>-5.706033</td>\n",
              "      <td>2.946019</td>\n",
              "      <td>-11.64944</td>\n",
              "      <td>-8.540621</td>\n",
              "      <td>-5.021597</td>\n",
              "      <td>-3.326156</td>\n",
              "      <td>-2.000000e-08</td>\n",
              "    </tr>\n",
              "    <tr>\n",
              "      <th>num_private</th>\n",
              "      <td>59400.0</td>\n",
              "      <td>0.474141</td>\n",
              "      <td>12.236230</td>\n",
              "      <td>0.00000</td>\n",
              "      <td>0.000000</td>\n",
              "      <td>0.000000</td>\n",
              "      <td>0.000000</td>\n",
              "      <td>1.776000e+03</td>\n",
              "    </tr>\n",
              "    <tr>\n",
              "      <th>population</th>\n",
              "      <td>59400.0</td>\n",
              "      <td>179.909983</td>\n",
              "      <td>471.482176</td>\n",
              "      <td>0.00000</td>\n",
              "      <td>0.000000</td>\n",
              "      <td>25.000000</td>\n",
              "      <td>215.000000</td>\n",
              "      <td>3.050000e+04</td>\n",
              "    </tr>\n",
              "    <tr>\n",
              "      <th>construction_year</th>\n",
              "      <td>59400.0</td>\n",
              "      <td>2001.919495</td>\n",
              "      <td>12.254881</td>\n",
              "      <td>1960.00000</td>\n",
              "      <td>1996.000000</td>\n",
              "      <td>2008.000000</td>\n",
              "      <td>2011.000000</td>\n",
              "      <td>2.013000e+03</td>\n",
              "    </tr>\n",
              "    <tr>\n",
              "      <th>year</th>\n",
              "      <td>59400.0</td>\n",
              "      <td>2011.921667</td>\n",
              "      <td>0.958758</td>\n",
              "      <td>2002.00000</td>\n",
              "      <td>2011.000000</td>\n",
              "      <td>2012.000000</td>\n",
              "      <td>2013.000000</td>\n",
              "      <td>2.013000e+03</td>\n",
              "    </tr>\n",
              "    <tr>\n",
              "      <th>month</th>\n",
              "      <td>59400.0</td>\n",
              "      <td>4.375640</td>\n",
              "      <td>3.029247</td>\n",
              "      <td>1.00000</td>\n",
              "      <td>2.000000</td>\n",
              "      <td>3.000000</td>\n",
              "      <td>7.000000</td>\n",
              "      <td>1.200000e+01</td>\n",
              "    </tr>\n",
              "    <tr>\n",
              "      <th>day</th>\n",
              "      <td>59400.0</td>\n",
              "      <td>15.621498</td>\n",
              "      <td>8.687553</td>\n",
              "      <td>1.00000</td>\n",
              "      <td>8.000000</td>\n",
              "      <td>16.000000</td>\n",
              "      <td>23.000000</td>\n",
              "      <td>3.100000e+01</td>\n",
              "    </tr>\n",
              "  </tbody>\n",
              "</table>\n",
              "</div>"
            ],
            "text/plain": [
              "                     count         mean          std         min          25%          50%          75%           max\n",
              "amount_tsh         59400.0   317.650385  2997.574558     0.00000     0.000000     0.000000    20.000000  3.500000e+05\n",
              "gps_height         59400.0   668.297239   693.116350   -90.00000     0.000000   369.000000  1319.250000  2.770000e+03\n",
              "longitude          59400.0    34.077427     6.567432     0.00000    33.090347    34.908743    37.178387  4.034519e+01\n",
              "latitude           59400.0    -5.706033     2.946019   -11.64944    -8.540621    -5.021597    -3.326156 -2.000000e-08\n",
              "num_private        59400.0     0.474141    12.236230     0.00000     0.000000     0.000000     0.000000  1.776000e+03\n",
              "population         59400.0   179.909983   471.482176     0.00000     0.000000    25.000000   215.000000  3.050000e+04\n",
              "construction_year  59400.0  2001.919495    12.254881  1960.00000  1996.000000  2008.000000  2011.000000  2.013000e+03\n",
              "year               59400.0  2011.921667     0.958758  2002.00000  2011.000000  2012.000000  2013.000000  2.013000e+03\n",
              "month              59400.0     4.375640     3.029247     1.00000     2.000000     3.000000     7.000000  1.200000e+01\n",
              "day                59400.0    15.621498     8.687553     1.00000     8.000000    16.000000    23.000000  3.100000e+01"
            ]
          },
          "metadata": {
            "tags": []
          },
          "execution_count": 31
        }
      ]
    },
    {
      "metadata": {
        "id": "nz_jZc2F613a",
        "colab_type": "text"
      },
      "cell_type": "markdown",
      "source": [
        "**Creating new variables \"distance\" and \"distance3D\"**"
      ]
    },
    {
      "metadata": {
        "id": "NEmzBiBr47hN",
        "colab_type": "code",
        "outputId": "ffbe9e55-f521-4597-f295-ac284ff64514",
        "colab": {
          "base_uri": "https://localhost:8080/",
          "height": 833
        }
      },
      "cell_type": "code",
      "source": [
        "mean_lat_train = train_F_num['latitude'].mean()\n",
        "mean_long_train = train_F_num['longitude'].mean()\n",
        "mean_lat_test = test_F_num['latitude'].mean()\n",
        "mean_long_test = test_F_num['longitude'].mean()\n",
        "\n",
        "\n",
        "train_F_num['distance'] = np.sqrt((train_F_num['longitude'] - mean_long_train)**2 + (train_F_num['latitude'] - mean_lat_train)**2)\n",
        "test_F_num['distance'] = np.sqrt((test_F_num['longitude'] - mean_long_test)**2 + (test_F_num['latitude'] - mean_lat_test)**2)\n",
        "\n",
        "train_F_num['distance3d'] = np.sqrt((train_F_num['gps_height']**2 + train_F_num['longitude'] - mean_long_train)**2 + (train_F_num['latitude'] - mean_lat_train)**2)\n",
        "test_F_num['distance3d'] = np.sqrt((test_F_num['gps_height']**2 + test_F_num['longitude'] - mean_long_test)**2 + (test_F_num['latitude'] - mean_lat_test)**2)\n",
        "\n",
        "\n",
        "train_F_num.describe().T"
      ],
      "execution_count": 0,
      "outputs": [
        {
          "output_type": "stream",
          "text": [
            "/usr/local/lib/python3.6/dist-packages/ipykernel_launcher.py:7: SettingWithCopyWarning: \n",
            "A value is trying to be set on a copy of a slice from a DataFrame.\n",
            "Try using .loc[row_indexer,col_indexer] = value instead\n",
            "\n",
            "See the caveats in the documentation: http://pandas.pydata.org/pandas-docs/stable/indexing.html#indexing-view-versus-copy\n",
            "  import sys\n",
            "/usr/local/lib/python3.6/dist-packages/ipykernel_launcher.py:8: SettingWithCopyWarning: \n",
            "A value is trying to be set on a copy of a slice from a DataFrame.\n",
            "Try using .loc[row_indexer,col_indexer] = value instead\n",
            "\n",
            "See the caveats in the documentation: http://pandas.pydata.org/pandas-docs/stable/indexing.html#indexing-view-versus-copy\n",
            "  \n",
            "/usr/local/lib/python3.6/dist-packages/ipykernel_launcher.py:10: SettingWithCopyWarning: \n",
            "A value is trying to be set on a copy of a slice from a DataFrame.\n",
            "Try using .loc[row_indexer,col_indexer] = value instead\n",
            "\n",
            "See the caveats in the documentation: http://pandas.pydata.org/pandas-docs/stable/indexing.html#indexing-view-versus-copy\n",
            "  # Remove the CWD from sys.path while we load stuff.\n",
            "/usr/local/lib/python3.6/dist-packages/ipykernel_launcher.py:11: SettingWithCopyWarning: \n",
            "A value is trying to be set on a copy of a slice from a DataFrame.\n",
            "Try using .loc[row_indexer,col_indexer] = value instead\n",
            "\n",
            "See the caveats in the documentation: http://pandas.pydata.org/pandas-docs/stable/indexing.html#indexing-view-versus-copy\n",
            "  # This is added back by InteractiveShellApp.init_path()\n"
          ],
          "name": "stderr"
        },
        {
          "output_type": "execute_result",
          "data": {
            "text/html": [
              "<div>\n",
              "<style scoped>\n",
              "    .dataframe tbody tr th:only-of-type {\n",
              "        vertical-align: middle;\n",
              "    }\n",
              "\n",
              "    .dataframe tbody tr th {\n",
              "        vertical-align: top;\n",
              "    }\n",
              "\n",
              "    .dataframe thead th {\n",
              "        text-align: right;\n",
              "    }\n",
              "</style>\n",
              "<table border=\"1\" class=\"dataframe\">\n",
              "  <thead>\n",
              "    <tr style=\"text-align: right;\">\n",
              "      <th></th>\n",
              "      <th>count</th>\n",
              "      <th>mean</th>\n",
              "      <th>std</th>\n",
              "      <th>min</th>\n",
              "      <th>25%</th>\n",
              "      <th>50%</th>\n",
              "      <th>75%</th>\n",
              "      <th>max</th>\n",
              "    </tr>\n",
              "  </thead>\n",
              "  <tbody>\n",
              "    <tr>\n",
              "      <th>amount_tsh</th>\n",
              "      <td>59400.0</td>\n",
              "      <td>317.650385</td>\n",
              "      <td>2.997575e+03</td>\n",
              "      <td>0.000000</td>\n",
              "      <td>0.000000</td>\n",
              "      <td>0.000000</td>\n",
              "      <td>2.000000e+01</td>\n",
              "      <td>3.500000e+05</td>\n",
              "    </tr>\n",
              "    <tr>\n",
              "      <th>gps_height</th>\n",
              "      <td>59400.0</td>\n",
              "      <td>668.297239</td>\n",
              "      <td>6.931164e+02</td>\n",
              "      <td>-90.000000</td>\n",
              "      <td>0.000000</td>\n",
              "      <td>369.000000</td>\n",
              "      <td>1.319250e+03</td>\n",
              "      <td>2.770000e+03</td>\n",
              "    </tr>\n",
              "    <tr>\n",
              "      <th>longitude</th>\n",
              "      <td>59400.0</td>\n",
              "      <td>34.077427</td>\n",
              "      <td>6.567432e+00</td>\n",
              "      <td>0.000000</td>\n",
              "      <td>33.090347</td>\n",
              "      <td>34.908743</td>\n",
              "      <td>3.717839e+01</td>\n",
              "      <td>4.034519e+01</td>\n",
              "    </tr>\n",
              "    <tr>\n",
              "      <th>latitude</th>\n",
              "      <td>59400.0</td>\n",
              "      <td>-5.706033</td>\n",
              "      <td>2.946019e+00</td>\n",
              "      <td>-11.649440</td>\n",
              "      <td>-8.540621</td>\n",
              "      <td>-5.021597</td>\n",
              "      <td>-3.326156e+00</td>\n",
              "      <td>-2.000000e-08</td>\n",
              "    </tr>\n",
              "    <tr>\n",
              "      <th>num_private</th>\n",
              "      <td>59400.0</td>\n",
              "      <td>0.474141</td>\n",
              "      <td>1.223623e+01</td>\n",
              "      <td>0.000000</td>\n",
              "      <td>0.000000</td>\n",
              "      <td>0.000000</td>\n",
              "      <td>0.000000e+00</td>\n",
              "      <td>1.776000e+03</td>\n",
              "    </tr>\n",
              "    <tr>\n",
              "      <th>population</th>\n",
              "      <td>59400.0</td>\n",
              "      <td>179.909983</td>\n",
              "      <td>4.714822e+02</td>\n",
              "      <td>0.000000</td>\n",
              "      <td>0.000000</td>\n",
              "      <td>25.000000</td>\n",
              "      <td>2.150000e+02</td>\n",
              "      <td>3.050000e+04</td>\n",
              "    </tr>\n",
              "    <tr>\n",
              "      <th>construction_year</th>\n",
              "      <td>59400.0</td>\n",
              "      <td>2001.919495</td>\n",
              "      <td>1.225488e+01</td>\n",
              "      <td>1960.000000</td>\n",
              "      <td>1996.000000</td>\n",
              "      <td>2008.000000</td>\n",
              "      <td>2.011000e+03</td>\n",
              "      <td>2.013000e+03</td>\n",
              "    </tr>\n",
              "    <tr>\n",
              "      <th>year</th>\n",
              "      <td>59400.0</td>\n",
              "      <td>2011.921667</td>\n",
              "      <td>9.587576e-01</td>\n",
              "      <td>2002.000000</td>\n",
              "      <td>2011.000000</td>\n",
              "      <td>2012.000000</td>\n",
              "      <td>2.013000e+03</td>\n",
              "      <td>2.013000e+03</td>\n",
              "    </tr>\n",
              "    <tr>\n",
              "      <th>month</th>\n",
              "      <td>59400.0</td>\n",
              "      <td>4.375640</td>\n",
              "      <td>3.029247e+00</td>\n",
              "      <td>1.000000</td>\n",
              "      <td>2.000000</td>\n",
              "      <td>3.000000</td>\n",
              "      <td>7.000000e+00</td>\n",
              "      <td>1.200000e+01</td>\n",
              "    </tr>\n",
              "    <tr>\n",
              "      <th>day</th>\n",
              "      <td>59400.0</td>\n",
              "      <td>15.621498</td>\n",
              "      <td>8.687553e+00</td>\n",
              "      <td>1.000000</td>\n",
              "      <td>8.000000</td>\n",
              "      <td>16.000000</td>\n",
              "      <td>2.300000e+01</td>\n",
              "      <td>3.100000e+01</td>\n",
              "    </tr>\n",
              "    <tr>\n",
              "      <th>distance</th>\n",
              "      <td>59400.0</td>\n",
              "      <td>4.699261</td>\n",
              "      <td>5.452225e+00</td>\n",
              "      <td>0.226598</td>\n",
              "      <td>3.042555</td>\n",
              "      <td>3.760703</td>\n",
              "      <td>4.472278e+00</td>\n",
              "      <td>3.455184e+01</td>\n",
              "    </tr>\n",
              "    <tr>\n",
              "      <th>distance3d</th>\n",
              "      <td>59400.0</td>\n",
              "      <td>927026.668034</td>\n",
              "      <td>1.197130e+06</td>\n",
              "      <td>0.320553</td>\n",
              "      <td>3.878755</td>\n",
              "      <td>136165.542649</td>\n",
              "      <td>1.740423e+06</td>\n",
              "      <td>7.672902e+06</td>\n",
              "    </tr>\n",
              "  </tbody>\n",
              "</table>\n",
              "</div>"
            ],
            "text/plain": [
              "                     count           mean           std          min          25%            50%           75%           max\n",
              "amount_tsh         59400.0     317.650385  2.997575e+03     0.000000     0.000000       0.000000  2.000000e+01  3.500000e+05\n",
              "gps_height         59400.0     668.297239  6.931164e+02   -90.000000     0.000000     369.000000  1.319250e+03  2.770000e+03\n",
              "longitude          59400.0      34.077427  6.567432e+00     0.000000    33.090347      34.908743  3.717839e+01  4.034519e+01\n",
              "latitude           59400.0      -5.706033  2.946019e+00   -11.649440    -8.540621      -5.021597 -3.326156e+00 -2.000000e-08\n",
              "num_private        59400.0       0.474141  1.223623e+01     0.000000     0.000000       0.000000  0.000000e+00  1.776000e+03\n",
              "population         59400.0     179.909983  4.714822e+02     0.000000     0.000000      25.000000  2.150000e+02  3.050000e+04\n",
              "construction_year  59400.0    2001.919495  1.225488e+01  1960.000000  1996.000000    2008.000000  2.011000e+03  2.013000e+03\n",
              "year               59400.0    2011.921667  9.587576e-01  2002.000000  2011.000000    2012.000000  2.013000e+03  2.013000e+03\n",
              "month              59400.0       4.375640  3.029247e+00     1.000000     2.000000       3.000000  7.000000e+00  1.200000e+01\n",
              "day                59400.0      15.621498  8.687553e+00     1.000000     8.000000      16.000000  2.300000e+01  3.100000e+01\n",
              "distance           59400.0       4.699261  5.452225e+00     0.226598     3.042555       3.760703  4.472278e+00  3.455184e+01\n",
              "distance3d         59400.0  927026.668034  1.197130e+06     0.320553     3.878755  136165.542649  1.740423e+06  7.672902e+06"
            ]
          },
          "metadata": {
            "tags": []
          },
          "execution_count": 32
        }
      ]
    },
    {
      "metadata": {
        "id": "Jv-tcXT01Z-y",
        "colab_type": "text"
      },
      "cell_type": "markdown",
      "source": [
        "#### Converting Categorical variables to Dummy Variables"
      ]
    },
    {
      "metadata": {
        "id": "9OBdF8tFM8gy",
        "colab_type": "code",
        "outputId": "51ec42b1-d7d2-4cc1-a3ed-ccae8a02feea",
        "colab": {
          "base_uri": "https://localhost:8080/",
          "height": 589
        }
      },
      "cell_type": "code",
      "source": [
        "for col in train_F_cat.columns:\n",
        "  print (col, train_F_cat[col].nunique())"
      ],
      "execution_count": 0,
      "outputs": [
        {
          "output_type": "stream",
          "text": [
            "date_recorded 356\n",
            "funder 1897\n",
            "installer 2145\n",
            "wpt_name 37400\n",
            "basin 9\n",
            "subvillage 19287\n",
            "region 21\n",
            "region_code 27\n",
            "district_code 20\n",
            "lga 125\n",
            "ward 2092\n",
            "public_meeting 2\n",
            "recorded_by 1\n",
            "scheme_management 12\n",
            "scheme_name 2696\n",
            "permit 2\n",
            "extraction_type 18\n",
            "extraction_type_group 13\n",
            "extraction_type_class 7\n",
            "management 12\n",
            "management_group 5\n",
            "payment 7\n",
            "payment_type 7\n",
            "water_quality 8\n",
            "quality_group 6\n",
            "quantity 5\n",
            "quantity_group 5\n",
            "source 10\n",
            "source_type 7\n",
            "source_class 3\n",
            "waterpoint_type 7\n",
            "waterpoint_type_group 6\n",
            "day_of_week 7\n"
          ],
          "name": "stdout"
        }
      ]
    },
    {
      "metadata": {
        "id": "maXxEj67D5wS",
        "colab_type": "code",
        "outputId": "d1cb1a30-c304-4e07-ab4d-628f06f5981e",
        "colab": {
          "base_uri": "https://localhost:8080/",
          "height": 173
        }
      },
      "cell_type": "code",
      "source": [
        "null_list"
      ],
      "execution_count": 0,
      "outputs": [
        {
          "output_type": "execute_result",
          "data": {
            "text/plain": [
              "['funder',\n",
              " 'installer',\n",
              " 'subvillage',\n",
              " 'public_meeting',\n",
              " 'scheme_management',\n",
              " 'scheme_name',\n",
              " 'permit',\n",
              " 'recorded_by',\n",
              " 'date_recorded']"
            ]
          },
          "metadata": {
            "tags": []
          },
          "execution_count": 34
        }
      ]
    },
    {
      "metadata": {
        "id": "QB7qBoV6EqvX",
        "colab_type": "text"
      },
      "cell_type": "markdown",
      "source": [
        "#### Creating Dummy variables out of the less unique (<=125 categories) categorical variables."
      ]
    },
    {
      "metadata": {
        "id": "SL2k9mhEA-ej",
        "colab_type": "code",
        "outputId": "0bd709a8-532d-422f-d5e8-25c3f24a99aa",
        "colab": {
          "base_uri": "https://localhost:8080/",
          "height": 416
        }
      },
      "cell_type": "code",
      "source": [
        "cols_kept = []\n",
        "\n",
        "for col in train_F_cat.columns:\n",
        "  if col not in null_list:\n",
        "    if train_F_cat[col].nunique() <= 125:\n",
        "      cols_kept.append(col)\n",
        "    \n",
        "print (len(cols_kept))\n",
        "    \n",
        "cols_kept\n",
        "\n"
      ],
      "execution_count": 0,
      "outputs": [
        {
          "output_type": "stream",
          "text": [
            "22\n"
          ],
          "name": "stdout"
        },
        {
          "output_type": "execute_result",
          "data": {
            "text/plain": [
              "['basin',\n",
              " 'region',\n",
              " 'region_code',\n",
              " 'district_code',\n",
              " 'lga',\n",
              " 'extraction_type',\n",
              " 'extraction_type_group',\n",
              " 'extraction_type_class',\n",
              " 'management',\n",
              " 'management_group',\n",
              " 'payment',\n",
              " 'payment_type',\n",
              " 'water_quality',\n",
              " 'quality_group',\n",
              " 'quantity',\n",
              " 'quantity_group',\n",
              " 'source',\n",
              " 'source_type',\n",
              " 'source_class',\n",
              " 'waterpoint_type',\n",
              " 'waterpoint_type_group',\n",
              " 'day_of_week']"
            ]
          },
          "metadata": {
            "tags": []
          },
          "execution_count": 35
        }
      ]
    },
    {
      "metadata": {
        "id": "wJRZHuJcOYjm",
        "colab_type": "code",
        "outputId": "7d9abca9-50b0-4b0c-cb30-3ce51f0a8956",
        "colab": {
          "base_uri": "https://localhost:8080/",
          "height": 34
        }
      },
      "cell_type": "code",
      "source": [
        "small_cat_train = train_F_cat[cols_kept]\n",
        "small_cat_test = test_F_cat[cols_kept]\n",
        "\n",
        "\n",
        "small_cat_train.shape, small_cat_test.shape"
      ],
      "execution_count": 0,
      "outputs": [
        {
          "output_type": "execute_result",
          "data": {
            "text/plain": [
              "((59400, 22), (14358, 22))"
            ]
          },
          "metadata": {
            "tags": []
          },
          "execution_count": 36
        }
      ]
    },
    {
      "metadata": {
        "id": "le83PKcPJ5X8",
        "colab_type": "code",
        "colab": {}
      },
      "cell_type": "code",
      "source": [
        "def dummy_df(category_df):\n",
        "  df_dummy = pd.DataFrame()\n",
        "  for col in category_df.columns:\n",
        "    df_dummy = pd.concat([df_dummy, pd.get_dummies(category_df[col], drop_first=True, prefix = 'Is')], axis='columns')\n",
        "  return df_dummy"
      ],
      "execution_count": 0,
      "outputs": []
    },
    {
      "metadata": {
        "id": "94Rwl4wPKoY4",
        "colab_type": "code",
        "colab": {}
      },
      "cell_type": "code",
      "source": [
        "df_dumb_train = dummy_df(small_cat_train)\n",
        "df_dumb_test = dummy_df(small_cat_test)"
      ],
      "execution_count": 0,
      "outputs": []
    },
    {
      "metadata": {
        "id": "2RODR6TYAiOl",
        "colab_type": "text"
      },
      "cell_type": "markdown",
      "source": [
        "#### Extracting more dummy variables without blowing up the computer"
      ]
    },
    {
      "metadata": {
        "id": "1zFIiuxD8q2C",
        "colab_type": "code",
        "outputId": "f580230c-121b-4377-e08b-e57709ebc6ff",
        "colab": {
          "base_uri": "https://localhost:8080/",
          "height": 34
        }
      },
      "cell_type": "code",
      "source": [
        "cols_lost = []\n",
        "\n",
        "for item in train_F_cat.columns:\n",
        "  if item not in null_list:\n",
        "    if item not in cols_kept:\n",
        "      cols_lost.append(item)\n",
        "\n",
        "cols_lost "
      ],
      "execution_count": 0,
      "outputs": [
        {
          "output_type": "execute_result",
          "data": {
            "text/plain": [
              "['wpt_name', 'ward']"
            ]
          },
          "metadata": {
            "tags": []
          },
          "execution_count": 39
        }
      ]
    },
    {
      "metadata": {
        "id": "94-GxIVUGAQb",
        "colab_type": "code",
        "colab": {}
      },
      "cell_type": "code",
      "source": [
        "def make_more_features(df, col, count, df_cat):\n",
        "  values = df[col]\n",
        "  counts = pd.value_counts(values)\n",
        "  mask = values.isin(counts[counts > count].index)\n",
        "  \n",
        "  dummy = pd.get_dummies(values[mask], prefix = \"Is_Big\").reset_index()\n",
        "  temp = df_cat.reset_index()\n",
        "  \n",
        "  temp_new = pd.merge(temp, dummy, left_on='id', right_on='id', how = 'left')\n",
        "  temp_new.set_index('id', inplace=True)\n",
        "\n",
        "  \n",
        "  return temp_new"
      ],
      "execution_count": 0,
      "outputs": []
    },
    {
      "metadata": {
        "id": "VjG-UjjZJzQQ",
        "colab_type": "code",
        "outputId": "b67b4d47-2d0b-4f89-bf3a-977415fb817f",
        "colab": {
          "base_uri": "https://localhost:8080/",
          "height": 278
        }
      },
      "cell_type": "code",
      "source": [
        "aa = 100\n",
        "bb = int(aa*len(test_F_cat)/len(train_F_cat))\n",
        "\n",
        "cc = 100\n",
        "dd = int(cc*len(test_F_cat)/len(train_F_cat))\n",
        "\n",
        "wpt_dummy_train = make_more_features(train_F_cat, 'wpt_name', aa, small_cat_train)\n",
        "wpt_dummy_test = make_more_features(test_F_cat, 'wpt_name', bb, small_cat_test)\n",
        "\n",
        "ward_dummy_train = make_more_features(train_F_cat, 'ward', cc, small_cat_train)\n",
        "ward_dummy_test = make_more_features(test_F_cat, 'ward', dd, small_cat_test)\n",
        "\n",
        "\n",
        "\n",
        "\n",
        "wpt_dummy_train.shape, wpt_dummy_test.shape, ward_dummy_train.shape, ward_dummy_test.shape"
      ],
      "execution_count": 0,
      "outputs": [
        {
          "output_type": "error",
          "ename": "ValueError",
          "evalue": "ignored",
          "traceback": [
            "\u001b[0;31m---------------------------------------------------------------------------\u001b[0m",
            "\u001b[0;31mValueError\u001b[0m                                Traceback (most recent call last)",
            "\u001b[0;31mValueError\u001b[0m: Buffer dtype mismatch, expected 'Python object' but got 'long'"
          ]
        },
        {
          "output_type": "stream",
          "text": [
            "Exception ignored in: 'pandas._libs.lib.is_bool_array'\n",
            "ValueError: Buffer dtype mismatch, expected 'Python object' but got 'long'\n"
          ],
          "name": "stderr"
        },
        {
          "output_type": "error",
          "ename": "ValueError",
          "evalue": "ignored",
          "traceback": [
            "\u001b[0;31m---------------------------------------------------------------------------\u001b[0m",
            "\u001b[0;31mValueError\u001b[0m                                Traceback (most recent call last)",
            "\u001b[0;31mValueError\u001b[0m: Buffer dtype mismatch, expected 'Python object' but got 'long'"
          ]
        },
        {
          "output_type": "stream",
          "text": [
            "Exception ignored in: 'pandas._libs.lib.is_bool_array'\n",
            "ValueError: Buffer dtype mismatch, expected 'Python object' but got 'long'\n"
          ],
          "name": "stderr"
        }
      ]
    },
    {
      "metadata": {
        "id": "8Xh0G-le7ggo",
        "colab_type": "code",
        "colab": {}
      },
      "cell_type": "code",
      "source": [
        "wpt_dummy_train.fillna(0,inplace=True) \n",
        "wpt_dummy_test.fillna(0,inplace=True) \n",
        "ward_dummy_train.fillna(0,inplace=True) \n",
        "ward_dummy_test.fillna(0,inplace=True)\n"
      ],
      "execution_count": 0,
      "outputs": []
    },
    {
      "metadata": {
        "id": "8CRmjI3_XM2v",
        "colab_type": "code",
        "colab": {}
      },
      "cell_type": "code",
      "source": [
        "for col in small_cat_train.columns:\n",
        "  del wpt_dummy_train[col]\n",
        "  del ward_dummy_train[col]\n",
        "  del wpt_dummy_test[col]\n",
        "  del ward_dummy_test[col]\n",
        "  \n",
        "wpt_dummy_train.shape, wpt_dummy_test.shape, ward_dummy_train.shape, ward_dummy_test.shape"
      ],
      "execution_count": 0,
      "outputs": []
    },
    {
      "metadata": {
        "id": "xiTI-89LMWq3",
        "colab_type": "code",
        "colab": {}
      },
      "cell_type": "code",
      "source": [
        "df_dumb_train = pd.concat([df_dumb_train, wpt_dummy_train, ward_dummy_train], axis='columns')\n",
        "df_dumb_test = pd.concat([df_dumb_test, wpt_dummy_test, ward_dummy_test], axis='columns')\n",
        "\n",
        "# df_dumb_train.shape, df_dumb_test.shape"
      ],
      "execution_count": 0,
      "outputs": []
    },
    {
      "metadata": {
        "id": "eYbQZzLn-mZX",
        "colab_type": "text"
      },
      "cell_type": "markdown",
      "source": [
        "#### Check to see the Train and Test Features have the same columns in the same order."
      ]
    },
    {
      "metadata": {
        "id": "rpVxwPgTeVrl",
        "colab_type": "code",
        "outputId": "5b9bba93-22e9-43bb-a1c3-d34d6bae63c6",
        "colab": {
          "base_uri": "https://localhost:8080/",
          "height": 200
        }
      },
      "cell_type": "code",
      "source": [
        "# %%time\n",
        "\n",
        "\n",
        "df_dumb_train.shape, df_dumb_test.shape"
      ],
      "execution_count": 0,
      "outputs": [
        {
          "output_type": "error",
          "ename": "NameError",
          "evalue": "ignored",
          "traceback": [
            "\u001b[0;31m---------------------------------------------------------------------------\u001b[0m",
            "\u001b[0;31mNameError\u001b[0m                                 Traceback (most recent call last)",
            "\u001b[0;32m<ipython-input-1-84cbe664adf3>\u001b[0m in \u001b[0;36m<module>\u001b[0;34m()\u001b[0m\n\u001b[1;32m      1\u001b[0m \u001b[0;34m\u001b[0m\u001b[0m\n\u001b[1;32m      2\u001b[0m \u001b[0;34m\u001b[0m\u001b[0m\n\u001b[0;32m----> 3\u001b[0;31m \u001b[0mdf_dumb_train\u001b[0m\u001b[0;34m.\u001b[0m\u001b[0mshape\u001b[0m\u001b[0;34m,\u001b[0m \u001b[0mdf_dumb_test\u001b[0m\u001b[0;34m.\u001b[0m\u001b[0mshape\u001b[0m\u001b[0;34m\u001b[0m\u001b[0;34m\u001b[0m\u001b[0m\n\u001b[0m",
            "\u001b[0;31mNameError\u001b[0m: name 'df_dumb_train' is not defined"
          ]
        }
      ]
    },
    {
      "metadata": {
        "id": "azy5W9AB3j7l",
        "colab_type": "code",
        "colab": {}
      },
      "cell_type": "code",
      "source": [
        "a = list(df_dumb_train.columns.values)\n",
        "\n",
        "print(a)\n",
        "print(len(a))"
      ],
      "execution_count": 0,
      "outputs": []
    },
    {
      "metadata": {
        "id": "cnQnQBOb3sSV",
        "colab_type": "code",
        "colab": {}
      },
      "cell_type": "code",
      "source": [
        "b = list(df_dumb_test.columns.values)\n",
        "\n",
        "print(b)\n",
        "print(len(b))"
      ],
      "execution_count": 0,
      "outputs": []
    },
    {
      "metadata": {
        "id": "ld3oZmex8eLV",
        "colab_type": "code",
        "colab": {}
      },
      "cell_type": "code",
      "source": [
        "a == b"
      ],
      "execution_count": 0,
      "outputs": []
    },
    {
      "metadata": {
        "id": "hdneTJBaReg6",
        "colab_type": "code",
        "colab": {}
      },
      "cell_type": "code",
      "source": [
        "def ex_cols(a,b):\n",
        "  ex_a = []\n",
        "  ex_b = []\n",
        "  for i in range(0,len(a)):\n",
        "    if a[i] not in b:\n",
        "      ex_a.append(a[i])\n",
        "  for j in range(0,len(b)):\n",
        "    if b[j] not in a:\n",
        "      ex_b.append(b[j])\n",
        "  return ex_a, ex_b\n",
        "\n",
        "ex_a, ex_b = ex_cols(a,b)\n",
        "\n",
        "ex_a,ex_b"
      ],
      "execution_count": 0,
      "outputs": []
    },
    {
      "metadata": {
        "id": "lI0NeKA44KI_",
        "colab_type": "code",
        "colab": {}
      },
      "cell_type": "code",
      "source": [
        "for col in df_dumb_train.columns:\n",
        "  if col in ex_a:\n",
        "    del df_dumb_train[col]\n",
        "\n",
        "for col in df_dumb_test.columns:\n",
        "  if col in ex_b:\n",
        "    del df_dumb_test[col]\n",
        "\n",
        "    \n",
        "    \n",
        "    \n",
        "# df_dumb_train.drop(ex_a, axis='columns')\n",
        "# df_dumb_test.drop(ex_b, axis='columns')\n",
        "\n",
        "# del df_dumb_train['other - mkulima/shinyanga']\n",
        "\n",
        "df_dumb_train.shape, df_dumb_test.shape"
      ],
      "execution_count": 0,
      "outputs": []
    },
    {
      "metadata": {
        "id": "CEAdGP7uO9Ti",
        "colab_type": "code",
        "colab": {}
      },
      "cell_type": "code",
      "source": [
        "c = list(df_dumb_train.columns.values)\n",
        "d = list(df_dumb_test.columns.values)\n",
        "\n",
        "\n",
        "c == d"
      ],
      "execution_count": 0,
      "outputs": []
    },
    {
      "metadata": {
        "id": "1YkQ3bjTX3qu",
        "colab_type": "code",
        "colab": {}
      },
      "cell_type": "code",
      "source": [
        "for i in range(0,len(c)):\n",
        "  if c[i] != d[i]:\n",
        "    print(\"No match\")\n",
        "    "
      ],
      "execution_count": 0,
      "outputs": []
    },
    {
      "metadata": {
        "id": "1jGl-eCDTal3",
        "colab_type": "text"
      },
      "cell_type": "markdown",
      "source": [
        "#### Combining to form the Feature Matrices"
      ]
    },
    {
      "metadata": {
        "id": "jSPuOEOSO9AW",
        "colab_type": "code",
        "colab": {}
      },
      "cell_type": "code",
      "source": [
        "X_train = pd.concat([train_F_num,df_dumb_train],axis='columns')\n",
        "X_test = pd.concat([test_F_num,df_dumb_test],axis='columns')\n",
        "\n",
        "# X_train = train_F_num\n",
        "# X_test = test_F_num\n",
        "\n",
        "# X_train = df_dumb_train\n",
        "# X_test = df_dumb_test\n",
        "\n",
        "X_train.shape, X_test.shape"
      ],
      "execution_count": 0,
      "outputs": []
    },
    {
      "metadata": {
        "id": "jmXL5ckBBUM1",
        "colab_type": "code",
        "colab": {}
      },
      "cell_type": "code",
      "source": [
        "X_train.head()"
      ],
      "execution_count": 0,
      "outputs": []
    },
    {
      "metadata": {
        "id": "CGPbz3OBYjX2",
        "colab_type": "code",
        "colab": {}
      },
      "cell_type": "code",
      "source": [
        "np.any(np.isnan(X_train)), np.any(np.isnan(X_test))\n"
      ],
      "execution_count": 0,
      "outputs": []
    },
    {
      "metadata": {
        "id": "fDKKIsgj2fOB",
        "colab_type": "text"
      },
      "cell_type": "markdown",
      "source": [
        "### Target Variable"
      ]
    },
    {
      "metadata": {
        "id": "Ho6t30TswCn_",
        "colab_type": "code",
        "colab": {}
      },
      "cell_type": "code",
      "source": [
        "train_L.head()"
      ],
      "execution_count": 0,
      "outputs": []
    },
    {
      "metadata": {
        "id": "uJpJZDWcT93J",
        "colab_type": "code",
        "colab": {}
      },
      "cell_type": "code",
      "source": [
        "train_L['status_group'] = train_L['status_group'].astype('category')\n",
        "\n",
        "train_L.dtypes, train_L.shape"
      ],
      "execution_count": 0,
      "outputs": []
    },
    {
      "metadata": {
        "id": "_dKESXQPRx0A",
        "colab_type": "code",
        "colab": {}
      },
      "cell_type": "code",
      "source": [
        "y_train = train_L['status_group']\n",
        "\n",
        "y_train.value_counts()"
      ],
      "execution_count": 0,
      "outputs": []
    },
    {
      "metadata": {
        "id": "p9A1WElgh3ZY",
        "colab_type": "text"
      },
      "cell_type": "markdown",
      "source": [
        "### Majority Class Baseline"
      ]
    },
    {
      "metadata": {
        "id": "uwMjgJ-YQcpQ",
        "colab_type": "code",
        "colab": {}
      },
      "cell_type": "code",
      "source": [
        "\n",
        "\n",
        "majority_class = y_train.mode()[0]\n",
        "\n",
        "print(majority_class)\n",
        "\n",
        "y_pred = pd.DataFrame(np.full(shape=len(X_test), fill_value = majority_class))\n",
        "\n",
        "# y_pred.head()\n",
        "\n",
        "# y_pred['id'] = X_test['id']"
      ],
      "execution_count": 0,
      "outputs": []
    },
    {
      "metadata": {
        "id": "O5Fk0XCWR_Zt",
        "colab_type": "code",
        "colab": {}
      },
      "cell_type": "code",
      "source": [
        "# accuracy_score(y_train, y_pred)"
      ],
      "execution_count": 0,
      "outputs": []
    },
    {
      "metadata": {
        "id": "EGWB74ukStop",
        "colab_type": "code",
        "colab": {}
      },
      "cell_type": "code",
      "source": [
        "temp = X_test.reset_index()\n",
        "\n",
        "temp.head()"
      ],
      "execution_count": 0,
      "outputs": []
    },
    {
      "metadata": {
        "id": "a0Oo4PLyRBBi",
        "colab_type": "code",
        "colab": {}
      },
      "cell_type": "code",
      "source": [
        "# temp = X_test.reset_index()\n",
        "\n",
        "# temp.head()\n",
        "\n",
        "y_pred['id'] = temp['id'].values\n",
        "y_pred.rename(columns={0:'status_group'}, inplace=True)\n",
        "y_pred.set_index('id', inplace=True)\n",
        "\n",
        "y_pred.head()\n",
        "\n",
        "print(y_pred.shape)"
      ],
      "execution_count": 0,
      "outputs": []
    },
    {
      "metadata": {
        "id": "5mWqDvQ4RiDt",
        "colab_type": "code",
        "colab": {}
      },
      "cell_type": "code",
      "source": [
        "from google.colab import files\n",
        "\n",
        "y_pred.to_csv('majority_class.csv')\n",
        "files.download('majority_class.csv')"
      ],
      "execution_count": 0,
      "outputs": []
    },
    {
      "metadata": {
        "id": "f2JuRf45h7Ne",
        "colab_type": "text"
      },
      "cell_type": "markdown",
      "source": [
        "### Classifier"
      ]
    },
    {
      "metadata": {
        "id": "7tL2XUhZsKLH",
        "colab_type": "text"
      },
      "cell_type": "markdown",
      "source": [
        "### Validation with just the training set split"
      ]
    },
    {
      "metadata": {
        "id": "L6iNq_HB_y5q",
        "colab_type": "text"
      },
      "cell_type": "markdown",
      "source": [
        "**Classifiers**"
      ]
    },
    {
      "metadata": {
        "id": "OU2vZOKC_xxs",
        "colab_type": "code",
        "colab": {}
      },
      "cell_type": "code",
      "source": [
        "from sklearn.linear_model import LogisticRegression\n",
        "# from sklearn.naive_bayes import MultinomialNB\n",
        "from sklearn.naive_bayes import GaussianNB\n",
        "# from sklearn.neighbors import KNeighborsClassifier\n",
        "from sklearn.ensemble import RandomForestClassifier, VotingClassifier\n",
        "\n",
        "\n",
        "clf_rf = RandomForestClassifier(n_estimators=100, max_depth=27, # criterion = 'entropy', # max_features = 'auto', \n",
        "                             oob_score = True, random_state=237)\n",
        "\n",
        "clf_lr = LogisticRegression(random_state=237, solver='lbfgs', multi_class='multinomial', max_iter=1000)\n",
        "\n",
        "\n",
        "clf_nb = GaussianNB()\n",
        "\n",
        "\n",
        "# clf_knn = KNeighborsClassifier(3) Stalls out"
      ],
      "execution_count": 0,
      "outputs": []
    },
    {
      "metadata": {
        "id": "By6qYUZyEZye",
        "colab_type": "text"
      },
      "cell_type": "markdown",
      "source": [
        "**Ensemble Classifiers - Did not perform as well as Random Forest**"
      ]
    },
    {
      "metadata": {
        "id": "cf4aMHh4BsS9",
        "colab_type": "code",
        "colab": {}
      },
      "cell_type": "code",
      "source": [
        "eclf1 = VotingClassifier(estimators=[('lr', clf_lr), ('rf', clf_rf), ('gnb', clf_nb)], voting='hard')\n",
        "\n",
        "eclf2 = VotingClassifier(estimators=[('lr', clf_lr), ('rf', clf_rf), ('gnb', clf_nb)], voting='soft')\n",
        "\n",
        "eclf3 = VotingClassifier(estimators=[('lr', clf_lr), ('rf', clf_rf), ('gnb', clf_nb)], voting='soft', weights=[1,8,1], flatten_transform=True)"
      ],
      "execution_count": 0,
      "outputs": []
    },
    {
      "metadata": {
        "id": "PkMNjXFGW6gS",
        "colab_type": "code",
        "colab": {}
      },
      "cell_type": "code",
      "source": [
        "def quick_eval(X,y, clf):\n",
        "  from sklearn.model_selection import train_test_split\n",
        "  from sklearn.preprocessing import StandardScaler\n",
        "  from sklearn.preprocessing import RobustScaler\n",
        "  from sklearn.metrics import accuracy_score\n",
        "\n",
        "  \n",
        "  X_train, X_test, y_train, y_test = train_test_split(X, y, test_size=0.20, shuffle = True, random_state=237)\n",
        "  print(X_train.shape, X_test.shape, y_train.shape, y_test.shape)\n",
        "  \n",
        "  scaler = StandardScaler()\n",
        "#   scaler = RobustScaler()\n",
        "  X_train_clf = scaler.fit_transform(X_train)\n",
        "  X_test_clf = scaler.transform(X_test)\n",
        "  \n",
        "  clf.fit(X_train_clf, y_train)\n",
        "  \n",
        "  y_pred_train = clf.predict(X_train_clf)\n",
        "  \n",
        "  y_pred = clf.predict(X_test_clf)\n",
        "  \n",
        "  \n",
        "  return accuracy_score(y_train,y_pred_train), accuracy_score(y_test, y_pred)"
      ],
      "execution_count": 0,
      "outputs": []
    },
    {
      "metadata": {
        "id": "hqLz87LZTeQb",
        "colab_type": "code",
        "colab": {}
      },
      "cell_type": "code",
      "source": [
        "# %%time\n",
        "\n",
        "quick_eval(X_train, y_train, clf_rf)"
      ],
      "execution_count": 0,
      "outputs": []
    },
    {
      "metadata": {
        "id": "7X6ezYC2r8d0",
        "colab_type": "text"
      },
      "cell_type": "markdown",
      "source": [
        "### Cross Validation"
      ]
    },
    {
      "metadata": {
        "id": "Rub-g2D7Td-U",
        "colab_type": "code",
        "colab": {}
      },
      "cell_type": "code",
      "source": [
        "from sklearn.preprocessing import StandardScaler\n",
        "from sklearn.preprocessing import MinMaxScaler\n",
        "from sklearn.preprocessing import RobustScaler\n",
        "from sklearn.preprocessing import MaxAbsScaler\n",
        "\n",
        "scaler = StandardScaler()\n",
        "# scaler = MinMaxScaler()\n",
        "# scaler = RobustScaler()\n",
        "# scaler = MaxAbsScaler()\n",
        "\n",
        "X_train_clf = scaler.fit_transform(X_train)\n",
        "X_test_clf = scaler.transform(X_test)\n",
        "\n",
        "# X_train_clf = X_train\n",
        "# X_test_clf = X_test\n",
        "\n",
        "print(type(y_train))\n",
        "print(type(X_train_clf))\n",
        "print(type(X_test_clf))\n",
        "\n",
        "X_train_clf.shape, y_train.shape, X_test_clf.shape"
      ],
      "execution_count": 0,
      "outputs": []
    },
    {
      "metadata": {
        "id": "mPzWbEA9hl_E",
        "colab_type": "code",
        "colab": {}
      },
      "cell_type": "code",
      "source": [
        "%%time\n",
        "\n",
        "from sklearn.model_selection import cross_validate\n",
        "\n",
        "from sklearn.metrics import accuracy_score\n",
        "\n",
        "\n",
        "scores = cross_validate(clf_rf,\n",
        "                        X_train_clf,y_train, \n",
        "                        scoring = 'accuracy', cv=5) \n",
        "\n"
      ],
      "execution_count": 0,
      "outputs": []
    },
    {
      "metadata": {
        "id": "F2gS8MHWiGDx",
        "colab_type": "code",
        "colab": {}
      },
      "cell_type": "code",
      "source": [
        "pd.DataFrame(scores)"
      ],
      "execution_count": 0,
      "outputs": []
    },
    {
      "metadata": {
        "id": "6ecS8NtxsA-L",
        "colab_type": "text"
      },
      "cell_type": "markdown",
      "source": [
        "### Creating the Prediction Vector"
      ]
    },
    {
      "metadata": {
        "id": "_AwIHRswObnY",
        "colab_type": "text"
      },
      "cell_type": "markdown",
      "source": [
        "**Tuning the parameters - Grid Search - Random Forest**"
      ]
    },
    {
      "metadata": {
        "id": "sIZ4xlJpOf-5",
        "colab_type": "code",
        "colab": {}
      },
      "cell_type": "code",
      "source": [
        "param_grid = { \"criterion\" : [\"gini\", \"entropy\"], \n",
        "              \"min_samples_leaf\" : [1, 5, 10, 25], \n",
        "              \"min_samples_split\" : [20, 28, 36,], \n",
        "              \"n_estimators\": [100, 200, 300]}\n",
        "\n",
        "param_grid2 = { #\"criterion\" : [\"gini\", \"entropy\"], \n",
        "              \"min_samples_leaf\" : [1, 5, 10, 25, 50, 70], \n",
        "              \"min_samples_split\" : [2, 4, 10, 12, 16, 18, 25, 35], \n",
        "              \"n_estimators\": [100, 400, 700, 1000, 1500]}\n",
        "\n",
        "from sklearn.model_selection import GridSearchCV, cross_val_score\n",
        "\n",
        "# rf = RandomForestClassifier(n_estimators=100, max_features='auto', oob_score=True, random_state=1, n_jobs=-1)\n",
        "\n",
        "clf = GridSearchCV(estimator=clf_rf, param_grid=param_grid, n_jobs=-1, cv=3)\n",
        "\n",
        "clf.fit(X_train, y_train)\n",
        "\n",
        "clf.bestparams"
      ],
      "execution_count": 0,
      "outputs": []
    },
    {
      "metadata": {
        "id": "gz-PKkH_xPkg",
        "colab_type": "code",
        "colab": {}
      },
      "cell_type": "code",
      "source": [
        "def predictor(X_train, X_test, y_train, clf):\n",
        "  from sklearn.preprocessing import StandardScaler\n",
        "  from sklearn.preprocessing import RobustScaler\n",
        " \n",
        "  from sklearn.metrics import accuracy_score\n",
        "  \n",
        "\n",
        "  y_pred = pd.DataFrame()\n",
        "  \n",
        "  temp_test = X_test.reset_index()\n",
        "  y_id = temp_test['id']\n",
        "#   scaler = StandardScaler()\n",
        "  scaler = RobustScaler()\n",
        "  \n",
        "  X_train_clf = scaler.fit_transform(X_train)\n",
        "\n",
        "  X_test_clf = scaler.transform(X_test)\n",
        "  clf.fit(X_train_clf, y_train)\n",
        "  \n",
        "  y_pred_train = clf.predict(X_train_clf)\n",
        "  \n",
        "  print (f'\\nThe accuracy score of the training set is {round(accuracy_score(y_train, y_pred_train), 5)}\\n')\n",
        "  \n",
        "  prediction = pd.DataFrame(clf.predict(X_test_clf))\n",
        "  \n",
        "  y_pred = pd.concat([y_id, prediction], axis='columns')\n",
        "\n",
        "  y_pred.rename(columns={0:'status_group'}, inplace=True)\n",
        "  \n",
        "  y_pred.set_index('id', inplace=True)\n",
        "  \n",
        "  return y_pred"
      ],
      "execution_count": 0,
      "outputs": []
    },
    {
      "metadata": {
        "id": "g4BWqWZz_oU3",
        "colab_type": "code",
        "colab": {}
      },
      "cell_type": "code",
      "source": [
        "%%time\n",
        "\n",
        "df = predictor(X_train, X_test, y_train, clf_rf)\n",
        "\n"
      ],
      "execution_count": 0,
      "outputs": []
    },
    {
      "metadata": {
        "id": "a7ROgk8TAFG8",
        "colab_type": "code",
        "colab": {}
      },
      "cell_type": "code",
      "source": [
        "df.head()"
      ],
      "execution_count": 0,
      "outputs": []
    },
    {
      "metadata": {
        "id": "Qc4m5C4t46Pz",
        "colab_type": "code",
        "colab": {}
      },
      "cell_type": "code",
      "source": [
        "df['status_group'].value_counts()"
      ],
      "execution_count": 0,
      "outputs": []
    },
    {
      "metadata": {
        "id": "Qp91TMu-39A3",
        "colab_type": "code",
        "colab": {}
      },
      "cell_type": "code",
      "source": [
        "df.shape"
      ],
      "execution_count": 0,
      "outputs": []
    },
    {
      "metadata": {
        "id": "zI51gSyseIKj",
        "colab_type": "text"
      },
      "cell_type": "markdown",
      "source": [
        "### Submission Download"
      ]
    },
    {
      "metadata": {
        "id": "wkbD3KxueMyN",
        "colab_type": "code",
        "colab": {}
      },
      "cell_type": "code",
      "source": [
        "from google.colab import files\n",
        "\n",
        "df.to_csv('submission.csv')\n",
        "files.download('submission.csv')"
      ],
      "execution_count": 0,
      "outputs": []
    }
  ]
}